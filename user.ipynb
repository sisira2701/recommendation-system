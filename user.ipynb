{
 "cells": [
  {
   "cell_type": "code",
   "execution_count": 1,
   "metadata": {},
   "outputs": [],
   "source": [
    "import pandas as pd\n",
    "import ast\n",
    "pd.options.mode.chained_assignment = None"
   ]
  },
  {
   "cell_type": "code",
   "execution_count": 2,
   "metadata": {},
   "outputs": [],
   "source": [
    "ratings = pd.read_csv(\"ratings.csv\")"
   ]
  },
  {
   "cell_type": "code",
   "execution_count": 3,
   "metadata": {},
   "outputs": [],
   "source": [
    "# lhs = open(r'lhs.txt', 'w')\n",
    "# rhs = open(r'rhs.txt', 'w')\n",
    "lhs = []\n",
    "with open('lhs.txt', 'r') as f:\n",
    "    lhs = ast.literal_eval(f.read())\n",
    "rhs = []\n",
    "with open('rhs.txt', 'r') as f:\n",
    "    rhs = ast.literal_eval(f.read())\n"
   ]
  },
  {
   "cell_type": "code",
   "execution_count": 4,
   "metadata": {},
   "outputs": [],
   "source": [
    "mv = pd.read_csv(\"mov2.csv\")\n",
    "for i in range(len(mv['genres'])):\n",
    "    mv['genres'][i] = ast.literal_eval(mv['genres'][i])  "
   ]
  },
  {
   "cell_type": "code",
   "execution_count": 5,
   "metadata": {},
   "outputs": [],
   "source": [
    "def userData(i,mv,ratings):\n",
    "    user = ratings[ratings['userId'] == i]\n",
    "    # print(user1)\n",
    "    user.rename(columns = {'movieId':'id'}, inplace = True)\n",
    "    mov1 = pd.merge(user,mv, on ='id')\n",
    "    return mov1"
   ]
  },
  {
   "cell_type": "code",
   "execution_count": 6,
   "metadata": {},
   "outputs": [],
   "source": [
    "def userLhs(mov1,lhs,rhs):\n",
    "    out = []\n",
    "    for i in range(len(mov1['genres'])):\n",
    "        if mov1['genres'][i] in lhs:\n",
    "            out.append(rhs[i])\n",
    "            \n",
    "    out2 = []\n",
    "    for i in range(len(out)):\n",
    "        if out[i] not in out[:i]:\n",
    "            out2.append(out[i])\n",
    "        \n",
    "    return out2"
   ]
  },
  {
   "cell_type": "code",
   "execution_count": 7,
   "metadata": {},
   "outputs": [],
   "source": [
    "def userRhs(mv,out2):\n",
    "    res = []\n",
    "    for i in out2:\n",
    "#         print(i)\n",
    "        for j in range(len(mv['genres'])):\n",
    "                if(i == mv['genres'][j]):\n",
    "                    res.append(j)\n",
    "        \n",
    "    return res"
   ]
  },
  {
   "cell_type": "code",
   "execution_count": 8,
   "metadata": {},
   "outputs": [],
   "source": [
    "def lang(res,mv,lst):\n",
    "    lang_lst = []\n",
    "    for i in res:\n",
    "        temp = mv['original_language'].iloc[i]\n",
    "#         print(temp)\n",
    "        if(temp in lst):\n",
    "            lang_lst.append(i)\n",
    "    return lang_lst"
   ]
  },
  {
   "cell_type": "code",
   "execution_count": 9,
   "metadata": {},
   "outputs": [],
   "source": [
    "def rating(res,mv,r):\n",
    "    lst = []\n",
    "    for i in res:\n",
    "        if(mv['vote_average'].iloc[i] >= r):\n",
    "            lst.append(i)\n",
    "    return lst"
   ]
  },
  {
   "cell_type": "code",
   "execution_count": 10,
   "metadata": {},
   "outputs": [
    {
     "data": {
      "text/plain": [
       "Index(['adult', 'belongs_to_collection', 'budget', 'genres', 'homepage', 'id',\n",
       "       'imdb_id', 'original_language', 'original_title', 'overview',\n",
       "       'popularity', 'poster_path', 'production_companies',\n",
       "       'production_countries', 'release_date', 'revenue', 'runtime',\n",
       "       'spoken_languages', 'status', 'tagline', 'title', 'video',\n",
       "       'vote_average', 'vote_count'],\n",
       "      dtype='object')"
      ]
     },
     "execution_count": 10,
     "metadata": {},
     "output_type": "execute_result"
    }
   ],
   "source": [
    "mv.columns"
   ]
  },
  {
   "cell_type": "code",
   "execution_count": 11,
   "metadata": {},
   "outputs": [],
   "source": [
    "def printRes(res,mv):  \n",
    "    for i in res:\n",
    "        print(mv['original_title'].iloc[i])"
   ]
  },
  {
   "cell_type": "code",
   "execution_count": 17,
   "metadata": {},
   "outputs": [],
   "source": [
    "mov1 = userData(20,mv,ratings) #finding movie recommendation for user with id = 20. \n",
    "lst = [r for r in mov1['original_language']]\n",
    "r = sum([r for r in mov1['vote_average']])/len(mov1)\n",
    "# lst,r\n",
    "# mov1"
   ]
  },
  {
   "cell_type": "code",
   "execution_count": 18,
   "metadata": {},
   "outputs": [],
   "source": [
    "out = userLhs(mov1,lhs,rhs)\n",
    "res = userRhs(mv,out)\n",
    "# print(len(res))\n",
    "res2 = lang(res,mv,lst) #language filter\n",
    "# print(len(res2))\n",
    "# printRes(res2,mv)\n",
    "res3 = rating(res2,mv,r) #rating filter\n",
    "# print(len(res3))\n",
    "#printRes(res3,mv) to see all the recommended movies"
   ]
  },
  {
   "cell_type": "code",
   "execution_count": 29,
   "metadata": {},
   "outputs": [
    {
     "name": "stdout",
     "output_type": "stream",
     "text": [
      "Mona Lisa Smile\n"
     ]
    }
   ],
   "source": [
    "import random\n",
    "rand_idx = random.randrange(len(res3))\n",
    "print(mv['original_title'].iloc[rand_idx]) #picking a random movie from the generated list"
   ]
  },
  {
   "cell_type": "code",
   "execution_count": null,
   "metadata": {},
   "outputs": [],
   "source": []
  }
 ],
 "metadata": {
  "kernelspec": {
   "display_name": "Python 3",
   "language": "python",
   "name": "python3"
  },
  "language_info": {
   "codemirror_mode": {
    "name": "ipython",
    "version": 3
   },
   "file_extension": ".py",
   "mimetype": "text/x-python",
   "name": "python",
   "nbconvert_exporter": "python",
   "pygments_lexer": "ipython3",
   "version": "3.7.4"
  }
 },
 "nbformat": 4,
 "nbformat_minor": 2
}
